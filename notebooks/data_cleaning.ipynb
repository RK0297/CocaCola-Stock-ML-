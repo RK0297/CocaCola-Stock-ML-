{
 "cells": [
  {
   "cell_type": "code",
   "execution_count": 1,
   "metadata": {},
   "outputs": [],
   "source": [
    "import pandas as pd\n",
    "import os"
   ]
  },
  {
   "cell_type": "code",
   "execution_count": 3,
   "metadata": {},
   "outputs": [],
   "source": [
    "data_path = os.path.join(\"..\", \"data\", \"coca_cola_stock_history.csv\")\n",
    "data = pd.read_csv(data_path)"
   ]
  },
  {
   "cell_type": "code",
   "execution_count": 4,
   "metadata": {},
   "outputs": [
    {
     "name": "stdout",
     "output_type": "stream",
     "text": [
      "Initial rows:\n",
      "         Date               Close                High                 Low  \\\n",
      "0         NaN                  KO                  KO                  KO   \n",
      "1  2015-01-02   30.22260856628418  30.409080870591364  29.978762062416763   \n",
      "2  2015-01-05   30.22260856628418   30.81788196003337  30.179578600584723   \n",
      "3  2015-01-06  30.452116012573242  30.796369476099763  30.294334885050667   \n",
      "4  2015-01-07  30.832233428955078  30.918296116432238   30.53818340551491   \n",
      "\n",
      "                 Open    Volume  \n",
      "0                  KO        KO  \n",
      "1  30.308671233565953   9921100  \n",
      "2  30.617065421865412  26292600  \n",
      "3  30.416256789767353  16897500  \n",
      "4  30.695964543242447  13412300  \n",
      "\n",
      "Missing Values Before Cleaning:\n",
      "Date      1\n",
      "Close     0\n",
      "High      0\n",
      "Low       0\n",
      "Open      0\n",
      "Volume    0\n",
      "dtype: int64\n"
     ]
    }
   ],
   "source": [
    "# Show initial rows\n",
    "print(\"Initial rows:\")\n",
    "print(data.head())\n",
    "\n",
    "# Check for missing values\n",
    "print(\"\\nMissing Values Before Cleaning:\")\n",
    "print(data.isnull().sum())"
   ]
  },
  {
   "cell_type": "code",
   "execution_count": 6,
   "metadata": {},
   "outputs": [],
   "source": [
    "data.ffill(inplace=True)  # forward fill\n",
    "data.fillna(0, inplace=True)  # fallback for any remaining missing values"
   ]
  },
  {
   "cell_type": "code",
   "execution_count": 7,
   "metadata": {},
   "outputs": [
    {
     "name": "stdout",
     "output_type": "stream",
     "text": [
      "\n",
      "Missing Values After Cleaning:\n",
      "Date      0\n",
      "Close     0\n",
      "High      0\n",
      "Low       0\n",
      "Open      0\n",
      "Volume    0\n",
      "dtype: int64\n"
     ]
    }
   ],
   "source": [
    "# Show missing values after cleaning\n",
    "print(\"\\nMissing Values After Cleaning:\")\n",
    "print(data.isnull().sum())"
   ]
  },
  {
   "cell_type": "code",
   "execution_count": 10,
   "metadata": {},
   "outputs": [
    {
     "name": "stdout",
     "output_type": "stream",
     "text": [
      "\n",
      "Cleaned data saved to: ..\\data\\coca_cola_stock_cleaned.csv\n"
     ]
    }
   ],
   "source": [
    "cleaned_path = os.path.join(\"..\", \"data\", \"coca_cola_stock_cleaned.csv\")\n",
    "data.to_csv(cleaned_path, index=False)\n",
    "print(f\"\\nCleaned data saved to: {cleaned_path}\")"
   ]
  }
 ],
 "metadata": {
  "kernelspec": {
   "display_name": "display-name",
   "language": "python",
   "name": "yourenvname"
  },
  "language_info": {
   "codemirror_mode": {
    "name": "ipython",
    "version": 3
   },
   "file_extension": ".py",
   "mimetype": "text/x-python",
   "name": "python",
   "nbconvert_exporter": "python",
   "pygments_lexer": "ipython3",
   "version": "3.12.9"
  }
 },
 "nbformat": 4,
 "nbformat_minor": 2
}
