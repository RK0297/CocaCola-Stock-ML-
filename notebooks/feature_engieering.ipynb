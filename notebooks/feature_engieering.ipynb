{
 "cells": [
  {
   "cell_type": "code",
   "execution_count": 8,
   "metadata": {},
   "outputs": [],
   "source": [
    "import pandas as pd\n",
    "import os\n",
    "\n",
    "# Load cleaned data\n",
    "data_path = os.path.join(\"..\", \"data\", \"coca_cola_stock_cleaned.csv\")\n",
    "data = pd.read_csv(data_path)"
   ]
  },
  {
   "cell_type": "code",
   "execution_count": 9,
   "metadata": {},
   "outputs": [
    {
     "name": "stderr",
     "output_type": "stream",
     "text": [
      "C:\\Users\\Radhakrishna\\AppData\\Local\\Temp\\ipykernel_3232\\4250494610.py:2: UserWarning: Could not infer format, so each element will be parsed individually, falling back to `dateutil`. To ensure parsing is consistent and as-expected, please specify a format.\n",
      "  data['Date'] = pd.to_datetime(data['Date'], errors='coerce')\n"
     ]
    }
   ],
   "source": [
    "# Fix date parsing\n",
    "data['Date'] = pd.to_datetime(data['Date'], errors='coerce')\n",
    "data.dropna(subset=['Date'], inplace=True)\n",
    "\n",
    "# ✅ Convert only the numeric columns that exist\n",
    "numeric_cols = ['Open', 'High', 'Low', 'Close', 'Volume']\n",
    "for col in numeric_cols:\n",
    "    if col in data.columns:\n",
    "        data[col] = pd.to_numeric(data[col], errors='coerce')\n",
    "\n",
    "# Drop rows with NaNs in critical columns\n",
    "data.dropna(subset=numeric_cols, inplace=True)"
   ]
  },
  {
   "cell_type": "code",
   "execution_count": 10,
   "metadata": {},
   "outputs": [],
   "source": [
    "# 📊 Feature Engineering\n",
    "data['MA_20'] = data['Close'].rolling(window=20).mean()\n",
    "data['MA_50'] = data['Close'].rolling(window=50).mean()\n",
    "data['Daily_Return'] = data['Close'].pct_change()\n",
    "data['Volatility'] = data['Daily_Return'].rolling(window=20).std()"
   ]
  },
  {
   "cell_type": "code",
   "execution_count": 11,
   "metadata": {},
   "outputs": [],
   "source": [
    "data.dropna(inplace=True)\n",
    "data.reset_index(drop=True, inplace=True)"
   ]
  },
  {
   "cell_type": "code",
   "execution_count": 12,
   "metadata": {},
   "outputs": [],
   "source": [
    "engineered_path = os.path.join(\"..\", \"data\", \"coca_cola_stock_engineered.csv\")\n",
    "data.to_csv(engineered_path, index=False)"
   ]
  },
  {
   "cell_type": "code",
   "execution_count": 13,
   "metadata": {},
   "outputs": [
    {
     "name": "stdout",
     "output_type": "stream",
     "text": [
      "        Date      Close      MA_20      MA_50  Daily_Return  Volatility\n",
      "0 2015-03-16  29.135576  29.976337  30.228816      0.009521    0.011377\n",
      "1 2015-03-17  29.294676  29.941773  30.210258      0.005461    0.011464\n",
      "2 2015-03-18  29.359739  29.913332  30.193000      0.002221    0.011486\n",
      "3 2015-03-19  28.940323  29.850293  30.162765     -0.014285    0.011604\n",
      "4 2015-03-20  29.395910  29.815053  30.134038      0.015742    0.012260\n",
      "\n",
      "✅ Feature-engineered data saved to: ..\\data\\coca_cola_stock_engineered.csv\n"
     ]
    }
   ],
   "source": [
    "print(data[['Date', 'Close', 'MA_20', 'MA_50', 'Daily_Return', 'Volatility']].head())\n",
    "print(f\"\\n✅ Feature-engineered data saved to: {engineered_path}\")"
   ]
  }
 ],
 "metadata": {
  "kernelspec": {
   "display_name": "display-name",
   "language": "python",
   "name": "yourenvname"
  },
  "language_info": {
   "codemirror_mode": {
    "name": "ipython",
    "version": 3
   },
   "file_extension": ".py",
   "mimetype": "text/x-python",
   "name": "python",
   "nbconvert_exporter": "python",
   "pygments_lexer": "ipython3",
   "version": "3.12.9"
  }
 },
 "nbformat": 4,
 "nbformat_minor": 2
}
