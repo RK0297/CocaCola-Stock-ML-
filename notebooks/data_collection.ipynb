{
 "cells": [
  {
   "cell_type": "code",
   "execution_count": 2,
   "metadata": {},
   "outputs": [],
   "source": [
    "import yfinance as yf\n",
    "import pandas as pd\n",
    "import os"
   ]
  },
  {
   "cell_type": "code",
   "execution_count": 3,
   "metadata": {},
   "outputs": [],
   "source": [
    "# Define the ticker and date range\n",
    "ticker = 'KO'  # Coca-Cola Company\n",
    "start_date = '2015-01-01'\n",
    "end_date = '2023-12-31'"
   ]
  },
  {
   "cell_type": "code",
   "execution_count": 5,
   "metadata": {},
   "outputs": [
    {
     "name": "stderr",
     "output_type": "stream",
     "text": [
      "C:\\Users\\Radhakrishna\\AppData\\Local\\Temp\\ipykernel_17696\\3223770355.py:1: FutureWarning: YF.download() has changed argument auto_adjust default to True\n",
      "  data = yf.download(ticker, start=start_date, end=end_date)\n",
      "[*********************100%***********************]  1 of 1 completed\n"
     ]
    }
   ],
   "source": [
    "data = yf.download(ticker, start=start_date, end=end_date)"
   ]
  },
  {
   "cell_type": "code",
   "execution_count": 6,
   "metadata": {},
   "outputs": [],
   "source": [
    "data.reset_index(inplace=True)\n"
   ]
  },
  {
   "cell_type": "code",
   "execution_count": 7,
   "metadata": {},
   "outputs": [
    {
     "name": "stdout",
     "output_type": "stream",
     "text": [
      "Data Info:\n",
      "\n",
      "<class 'pandas.core.frame.DataFrame'>\n",
      "RangeIndex: 2264 entries, 0 to 2263\n",
      "Data columns (total 6 columns):\n",
      " #   Column        Non-Null Count  Dtype         \n",
      "---  ------        --------------  -----         \n",
      " 0   (Date, )      2264 non-null   datetime64[ns]\n",
      " 1   (Close, KO)   2264 non-null   float64       \n",
      " 2   (High, KO)    2264 non-null   float64       \n",
      " 3   (Low, KO)     2264 non-null   float64       \n",
      " 4   (Open, KO)    2264 non-null   float64       \n",
      " 5   (Volume, KO)  2264 non-null   int64         \n",
      "dtypes: datetime64[ns](1), float64(4), int64(1)\n",
      "memory usage: 106.3 KB\n",
      "None\n",
      "\n",
      "First 5 Rows:\n",
      "\n",
      "Price        Date      Close       High        Low       Open    Volume\n",
      "Ticker                    KO         KO         KO         KO        KO\n",
      "0      2015-01-02  30.222609  30.409081  29.978762  30.308671   9921100\n",
      "1      2015-01-05  30.222609  30.817882  30.179579  30.617065  26292600\n",
      "2      2015-01-06  30.452116  30.796369  30.294335  30.416257  16897500\n",
      "3      2015-01-07  30.832233  30.918296  30.538183  30.695965  13412300\n",
      "4      2015-01-08  31.205179  31.248212  30.911129  30.968506  21743600\n"
     ]
    }
   ],
   "source": [
    "print(\"Data Info:\\n\")\n",
    "print(data.info())\n",
    "print(\"\\nFirst 5 Rows:\\n\")\n",
    "print(data.head())"
   ]
  },
  {
   "cell_type": "code",
   "execution_count": 8,
   "metadata": {},
   "outputs": [
    {
     "name": "stdout",
     "output_type": "stream",
     "text": [
      "\n",
      "Data saved to: ..\\data\\coca_cola_stock_history.csv\n"
     ]
    }
   ],
   "source": [
    "data_path = os.path.join(\"..\", \"data\", \"coca_cola_stock_history.csv\")\n",
    "data.to_csv(data_path, index=False)\n",
    "print(f\"\\nData saved to: {data_path}\")"
   ]
  }
 ],
 "metadata": {
  "kernelspec": {
   "display_name": "display-name",
   "language": "python",
   "name": "yourenvname"
  },
  "language_info": {
   "codemirror_mode": {
    "name": "ipython",
    "version": 3
   },
   "file_extension": ".py",
   "mimetype": "text/x-python",
   "name": "python",
   "nbconvert_exporter": "python",
   "pygments_lexer": "ipython3",
   "version": "3.12.9"
  }
 },
 "nbformat": 4,
 "nbformat_minor": 2
}
